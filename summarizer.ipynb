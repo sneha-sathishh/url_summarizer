{
 "cells": [
  {
   "cell_type": "code",
   "execution_count": 31,
   "metadata": {},
   "outputs": [],
   "source": [
    "from langchain_text_splitters import RecursiveCharacterTextSplitter\n",
    "import wikipediaapi\n",
    "import google.generativeai as genai\n",
    "import PyPDF2\n",
    "from langchain_community.document_loaders import WebBaseLoader\n",
    "import requests\n",
    "from bs4 import BeautifulSoup\n",
    "from langchain.llms import Ollama\n",
    "from langchain_community.embeddings import OllamaEmbeddings\n",
    "from langchain_chroma import Chroma"
   ]
  },
  {
   "cell_type": "code",
   "execution_count": 32,
   "metadata": {},
   "outputs": [],
   "source": [
    "# loader = WebBaseLoader(\"https://en.wikipedia.org/wiki/Artificial_intelligence\")\n",
    "# loader.requests_kwargs = {'verify':False}\n",
    "# data = loader.load()\n",
    "\n",
    "wiki_wiki = wikipediaapi.Wikipedia(\n",
    "    user_agent='Giskard application',\n",
    "    language='en',\n",
    "    extract_format=wikipediaapi.ExtractFormat.WIKI\n",
    ")\n",
    "p_wiki = wiki_wiki.page('Virat_Kohli')\n",
    "data = p_wiki.text"
   ]
  },
  {
   "cell_type": "code",
   "execution_count": 33,
   "metadata": {},
   "outputs": [],
   "source": [
    "# data = str(data)\n",
    "# type(data)\n",
    "# len(data)"
   ]
  },
  {
   "cell_type": "code",
   "execution_count": 34,
   "metadata": {},
   "outputs": [],
   "source": [
    "text_splitter = RecursiveCharacterTextSplitter(chunk_size = 1000 , chunk_overlap = 10)\n",
    "docs = text_splitter.create_documents([data])"
   ]
  },
  {
   "cell_type": "code",
   "execution_count": 35,
   "metadata": {},
   "outputs": [
    {
     "data": {
      "text/plain": [
       "47"
      ]
     },
     "execution_count": 35,
     "metadata": {},
     "output_type": "execute_result"
    }
   ],
   "source": [
    "len(docs)"
   ]
  },
  {
   "cell_type": "code",
   "execution_count": 47,
   "metadata": {},
   "outputs": [],
   "source": [
    "#local models\n",
    "\n",
    "# llm = Ollama(model = \"llama3\")\n",
    "embeddings = OllamaEmbeddings(model= \"nomic-embed-text\")"
   ]
  },
  {
   "cell_type": "code",
   "execution_count": 37,
   "metadata": {},
   "outputs": [],
   "source": [
    "#local vectordb\n",
    "\n",
    "# db = Chroma.from_documents(docs , embeddings , persist_directory=\"./chroma_db\")"
   ]
  },
  {
   "cell_type": "code",
   "execution_count": 38,
   "metadata": {},
   "outputs": [],
   "source": [
    "import google.generativeai as genai\n",
    "import dotenv\n",
    "\n",
    "api_key = dotenv.get_key(\".env\", key_to_get = \"GEMINI_API_KEY\")\n",
    "genai.configure(api_key=api_key)\n",
    "\n",
    "# gen_config = genai.GenerationConfig(\n",
    "#     temperature = 0.1\n",
    "# )\n",
    "model = genai.GenerativeModel(\"models/gemini-1.5-flash\")"
   ]
  },
  {
   "cell_type": "code",
   "execution_count": 39,
   "metadata": {},
   "outputs": [
    {
     "name": "stdout",
     "output_type": "stream",
     "text": [
      "Model(name='models/embedding-001',\n",
      "      base_model_id='',\n",
      "      version='001',\n",
      "      display_name='Embedding 001',\n",
      "      description='Obtain a distributed representation of a text.',\n",
      "      input_token_limit=2048,\n",
      "      output_token_limit=1,\n",
      "      supported_generation_methods=['embedContent'],\n",
      "      temperature=None,\n",
      "      top_p=None,\n",
      "      top_k=None)\n",
      "Model(name='models/text-embedding-004',\n",
      "      base_model_id='',\n",
      "      version='004',\n",
      "      display_name='Text Embedding 004',\n",
      "      description='Obtain a distributed representation of a text.',\n",
      "      input_token_limit=2048,\n",
      "      output_token_limit=1,\n",
      "      supported_generation_methods=['embedContent'],\n",
      "      temperature=None,\n",
      "      top_p=None,\n",
      "      top_k=None)\n"
     ]
    }
   ],
   "source": [
    "for m in genai.list_models():\n",
    "    if \"embedContent\" in m.supported_generation_methods:\n",
    "        print(m)"
   ]
  },
  {
   "cell_type": "code",
   "execution_count": 44,
   "metadata": {},
   "outputs": [
    {
     "data": {
      "text/plain": [
       "\"I can't provide you with the exact embedding model used by Gemini. This is because:\\n\\n* **It's proprietary:** Google keeps the details of its large language model architectures and specific embedding models confidential. This is common for companies developing advanced AI systems, as it protects their intellectual property and competitive advantage.\\n* **It's constantly evolving:** Gemini is likely under continuous development, with improvements and changes being made to its architecture and embedding models.\\n\\nHowever, I can give you some general insights into the type of embedding models used in large language models like Gemini:\\n\\n**What are Embeddings?**\\n\\n* Embeddings are a way to represent words, phrases, or even entire documents as numerical vectors. These vectors capture the meaning and relationship of these elements in a way that can be understood by a machine learning model.\\n* In the context of language models, embeddings are crucial for tasks like:\\n    * **Understanding the meaning of text:**  The model can analyze the relationships between words based on their embeddings.\\n    * **Generating coherent text:** By considering the embeddings of words, the model can predict the next most likely words in a sequence.\\n    * **Performing tasks like question answering and translation:** By comparing the embeddings of different texts, the model can find similarities and relationships.\\n\\n**Types of Embedding Models:**\\n\\n* **Word2Vec and GloVe:** These are some of the earlier and well-known models that create dense vector representations for individual words.\\n* **Contextual Embeddings (like BERT, RoBERTa, and GPT-3):** These models are more powerful as they capture the context in which a word appears, making the embeddings more nuanced and informative.\\n* **Sentence Embeddings:** These models create embeddings for entire sentences or paragraphs, capturing the meaning of the text as a whole.\\n\\n**What Gemini Might Use:**\\n\\n* **Custom Embeddings:** It's likely that Gemini uses its own custom embedding models, optimized for its specific architecture and the vast amount of data it was trained on. This allows for highly accurate and efficient semantic representation.\\n* **Combination of Different Techniques:** Gemini could potentially combine multiple embedding techniques, drawing on the strengths of each to create the most comprehensive representations of language.\\n\\n**How to Explore Similar Approaches:**\\n\\n* **Publicly Available Embeddings:** Many open-source embedding models are available, such as:\\n    * **Hugging Face Model Hub:**  https://huggingface.co/models \\n    * **Gensim:** https://radimrehurek.com/gensim/ \\n* **Experimentation:**  You can explore and fine-tune different embedding models to see how they perform on your specific tasks. \\n\\nRemember, the details of Gemini's internal workings are not publicly available, but understanding the general concepts of embeddings and their application in language models will give you a good foundation for exploring related research and technologies. \\n\""
      ]
     },
     "execution_count": 44,
     "metadata": {},
     "output_type": "execute_result"
    }
   ],
   "source": [
    "# response = model.generate_content(\"embedding model for gemini\")\n",
    "# response.text"
   ]
  },
  {
   "cell_type": "code",
   "execution_count": 41,
   "metadata": {},
   "outputs": [],
   "source": [
    "# from langchain_google_genai import GoogleGenerativeAIEmbeddings\n",
    "\n",
    "# embeddings = GoogleGenerativeAIEmbeddings(model=\"models/embedding-001\",google_api_key=api_key)\n",
    "\n",
    "# vector = embeddings.embed_query(\"hello, world!\")\n",
    "# vector[:5]"
   ]
  },
  {
   "cell_type": "code",
   "execution_count": 50,
   "metadata": {},
   "outputs": [],
   "source": [
    "from langchain_community.vectorstores import FAISS\n",
    "\n",
    "db = FAISS.from_documents(docs, embeddings)"
   ]
  },
  {
   "cell_type": "code",
   "execution_count": 51,
   "metadata": {},
   "outputs": [],
   "source": [
    "db.save_local(\"faiss_index\")"
   ]
  },
  {
   "cell_type": "code",
   "execution_count": 54,
   "metadata": {},
   "outputs": [],
   "source": [
    "retriever = db.as_retriever()"
   ]
  },
  {
   "cell_type": "code",
   "execution_count": 55,
   "metadata": {},
   "outputs": [
    {
     "data": {
      "text/plain": [
       "[Document(page_content=\"Other honours and awards\\nPeople's Choice Awards India for Favourite Sportsperson: 2012\\nGQ Sportsman of the year: 2013\\nCNN-News18 Indian of the Year: 2017\\nPeople for the Ethical Treatment of Animals (PETA) India's Person of the Year: 2019\\nDelhi & District Cricket Association (DDCA) renamed a stand after Kohli at Feroz Shah Kotla, Delhi.\\n\\nSee also\\nSports in India – Overview of sport in India\\nList of players who have scored 10,000 or more runs in One Day International cricket\\nList of cricketers by number of international centuries scored\\nList of cricketers who have scored centuries in both innings of a Test match\\nList of cricketers with centuries in all international formats\\nList of most-followed Instagram accounts\\n\\nNotes\\nReferences\\nBibliography\\nExternal links\\n\\nOfficial website\\nVirat Kohli at ESPNcricinfo\\nVirat Kohli on Instagram\\nVirat Kohli on X\\nVirat Kohli at IMDb\"),\n",
       " Document(page_content='Outside cricket\\nPersonal life\\nKohli\\'s romantic association with Bollywood actress Anushka Sharma, which commenced in 2013, earned the duo the moniker of \"Virushka\". During an interview with Graham Bensinger, Kohli divulged that he had encountered Sharma for the first time, when they were both were engaged in a promotional shoot for Clear shampoo. Their union since then has attracted significant media interest, with persistent rumours and speculations swirling around in the press, as both parties remained reticent about publicly discussing the relationship. On 11 December 2017, the couple exchanged nuptials in an intimate ceremony held in Florence, Italy, becoming one of the most talked-about celebrity couples in the country. On 11 January 2021, the couple had their first child, a daughter, who was named Vamika. The child\\'s name, Vamika, is derived from Sanskrit, meaning \"little goddess\". On 15 February 2024, the couple welcomed their second child, a boy named Akaay.'),\n",
       " Document(page_content='Virat Kohli (Hindi pronunciation: [ʋɪˈɾɑːʈ ˈkoːɦli] ; born 5 November 1988) is an Indian international cricketer and the former captain of the Indian national cricket team. He is a right-handed batsman and an occasional medium-fast bowler. He currently represents Royal Challengers Bengaluru in the IPL and Delhi in domestic cricket. Kohli is widely regarded as one of the greatest batsmen of all time. He holds the record as the highest run-scorer in T20I and IPL, ranks third in ODI, and stands as the fourth-highest in international cricket. He also holds the record for scoring the most centuries in ODI cricket and stands second in the list of most international centuries scored. Kohli was a key member of the Indian team that won the 2011 Cricket World Cup, 2013 ICC Champions Trophy, and captained India to win the ICC Test mace three consecutive times in 2017, 2018,  and 2019.'),\n",
       " Document(page_content=\"Early life\\nVirat Kohli was born on 5 November 1988 in Delhi into a Punjabi Hindu family. His father, Prem Nath Kohli, worked as a criminal lawyer, and his mother, Saroj Kohli, served as a housewife. He has an older brother, Vikas, and an older sister, Bhawna.  Kohli's formative years were spent in Uttam Nagar. He commenced his early education at Vishal Bharti Public School. According to his family, Kohli exhibited an early affinity for cricket as a mere three-year-old. He would pick up a cricket bat, display natural skill, and request his father to bowl to him.\")]"
      ]
     },
     "execution_count": 55,
     "metadata": {},
     "output_type": "execute_result"
    }
   ],
   "source": [
    "query = \"who is the wife of virat kohli\"\n",
    "context = retriever.invoke(query)\n",
    "context"
   ]
  }
 ],
 "metadata": {
  "kernelspec": {
   "display_name": ".venv",
   "language": "python",
   "name": "python3"
  },
  "language_info": {
   "codemirror_mode": {
    "name": "ipython",
    "version": 3
   },
   "file_extension": ".py",
   "mimetype": "text/x-python",
   "name": "python",
   "nbconvert_exporter": "python",
   "pygments_lexer": "ipython3",
   "version": "3.11.9"
  }
 },
 "nbformat": 4,
 "nbformat_minor": 2
}
